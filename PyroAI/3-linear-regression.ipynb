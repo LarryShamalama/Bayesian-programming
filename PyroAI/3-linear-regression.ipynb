{
 "cells": [
  {
   "cell_type": "markdown",
   "metadata": {},
   "source": [
    "## Questions\n",
    "\n",
    "- Why is the MCMC sampling so slow...?"
   ]
  },
  {
   "cell_type": "code",
   "execution_count": 1,
   "metadata": {},
   "outputs": [],
   "source": [
    "import logging\n",
    "\n",
    "import numpy as np\n",
    "import pandas as pd\n",
    "import matplotlib.pyplot as plt\n",
    "import seaborn as sns\n",
    "\n",
    "import torch\n",
    "import torch.distributions.constraints as constraints\n",
    "\n",
    "import pyro\n",
    "import pyro.infer\n",
    "import pyro.distributions as dist\n",
    "\n",
    "from pyro.infer import MCMC, NUTS, Predictive, Trace_ELBO, SVI\n",
    "\n",
    "pyro.set_rng_seed(101)\n",
    "\n",
    "%matplotlib inline\n",
    "%config InlineBackend.figure_format = \"retina\"\n",
    "\n",
    "logging.basicConfig(format='%(message)s', level=logging.INFO)"
   ]
  },
  {
   "cell_type": "code",
   "execution_count": 15,
   "metadata": {},
   "outputs": [],
   "source": [
    "intercept_0 = 4\n",
    "beta_0 = [2, 3] # the _0 represents the true parameter, not to be confused with the intercept\n",
    "sigma_0 = 1.5\n",
    "n = 20\n",
    "\n",
    "NUM_ITERS = 5000000"
   ]
  },
  {
   "cell_type": "code",
   "execution_count": 16,
   "metadata": {},
   "outputs": [],
   "source": [
    "x1 = np.exp(np.random.normal(loc=3, scale=2, size=[n, 1]))\n",
    "x2 = np.random.binomial(n=1, p=0.4, size=[n, 1])\n",
    "assert sum(x2) > 0 and sum(x2) < n\n",
    "\n",
    "x = np.hstack((x1, x2))\n",
    "y = intercept_0 + x@np.array(beta_0) + np.random.normal(loc=0, scale=sigma_0, size=[n,])\n",
    "\n",
    "x = torch.Tensor(x)\n",
    "y = torch.Tensor(y)"
   ]
  },
  {
   "cell_type": "code",
   "execution_count": 44,
   "metadata": {},
   "outputs": [],
   "source": [
    "def regression(x, y):\n",
    "    intercept = pyro.sample(\"intercept\", dist.Normal(loc=0, scale=10))\n",
    "    beta = []\n",
    "    \n",
    "    for i in range(x.shape[1]):\n",
    "        beta.append(pyro.sample(f\"beta{i+1}\", dist.Normal(loc=0, scale=10)))\n",
    "        \n",
    "    sigma = pyro.sample(\"sigma\", dist.InverseGamma(concentration=4, rate=2))\n",
    "    \n",
    "    mean = intercept + x.matmul(torch.Tensor(beta))\n",
    "    \n",
    "    y = pyro.sample(\"y\", dist.Normal(loc=mean, scale=sigma), obs=y)\n",
    "\n",
    "\"\"\"\n",
    "# code below is too slow... using a guide\n",
    "\n",
    "nuts_kernel = NUTS(model=regression)\n",
    "mcmc = MCMC(kernel=nuts_kernel,\n",
    "                 num_samples=10000,\n",
    "                 num_chains=1, \n",
    "                 warmup_steps=1000)\n",
    "posterior = mcmc.run(x=x, y=y)\n",
    "\"\"\"\n",
    "\n",
    "def guide(x, y):\n",
    "    intercept_loc   = pyro.param(\"intercept_loc\", torch.tensor(0.))\n",
    "    intercept_scale = pyro.param(\"intercept_scale\", torch.tensor(10.), constraint=constraints.positive)\n",
    "    \n",
    "    intercept_g = pyro.sample(\"intercept\", dist.Normal(loc=intercept_loc, scale=intercept_scale))\n",
    "    \n",
    "    beta_g = []\n",
    "    beta_loc   = {}\n",
    "    beta_scale = {}\n",
    "    \n",
    "    for i in range(x.shape[1]):\n",
    "        beta_loc[i]   = pyro.param(f\"beta{i+1}_loc\", torch.tensor(0.))\n",
    "        beta_scale[i] = pyro.param(f\"beta{i+1}_scale\", torch.tensor(10.), constraint=constraints.positive)\n",
    "        \n",
    "        beta_g.append(pyro.sample(f\"beta{i+1}\", dist.Normal(loc=beta_loc[i], scale=beta_scale[i])))\n",
    "    \n",
    "    sigma_concentration = pyro.param(\"sigma_concentration\", torch.tensor(4.), constraint=constraints.positive)\n",
    "    sigma_rate = pyro.param(\"sigma_rate\", torch.tensor(2.), constraint=constraints.positive)\n",
    "    \n",
    "    sigma_g = pyro.sample(\"sigma\", dist.InverseGamma(concentration=sigma_concentration, \n",
    "                                                       rate=sigma_rate))"
   ]
  },
  {
   "cell_type": "code",
   "execution_count": 45,
   "metadata": {},
   "outputs": [
    {
     "name": "stderr",
     "output_type": "stream",
     "text": [
      "Elbo loss: 21.17296626402927\n",
      "Elbo loss: 17.194840786734563\n",
      "Elbo loss: 14.909699744100802\n",
      "Elbo loss: 21.659881149290783\n",
      "Elbo loss: 19.290512087733024\n",
      "Elbo loss: 20.83483148329439\n",
      "Elbo loss: 21.009891575662643\n",
      "Elbo loss: 21.686518221889322\n",
      "Elbo loss: 20.295109670995657\n",
      "Elbo loss: 19.834340824599494\n",
      "Elbo loss: 18.72493540908678\n",
      "Elbo loss: 15.766808958743187\n",
      "Elbo loss: 19.103746315504637\n",
      "Elbo loss: 17.327568165290803\n",
      "Elbo loss: 19.40920920162535\n",
      "Elbo loss: 20.103619019973287\n",
      "Elbo loss: 15.12300417514859\n",
      "Elbo loss: 20.056929702614568\n",
      "Elbo loss: 19.428538221484004\n",
      "Elbo loss: 18.53088290387328\n",
      "Elbo loss: 19.331797409414023\n",
      "Elbo loss: 20.8316182754897\n",
      "Elbo loss: 22.067452577465527\n",
      "Elbo loss: 13.414947222819485\n",
      "Elbo loss: 16.385323231578163\n"
     ]
    }
   ],
   "source": [
    "adam_params = {\"lr\": 0.001}\n",
    "optimizer = pyro.optim.Adam(adam_params)\n",
    "\n",
    "\n",
    "pyro.clear_param_store()\n",
    "\n",
    "svi = SVI(regression,\n",
    "          guide,\n",
    "          pyro.optim.Adam(adam_params),\n",
    "          loss=Trace_ELBO())\n",
    "\n",
    "for i in range(NUM_ITERS):\n",
    "    if i % 2000 == 0:\n",
    "        elbo = svi.step(x, y)\n",
    "        logging.info(\"Elbo loss: {}\".format(np.log(elbo)))"
   ]
  },
  {
   "cell_type": "code",
   "execution_count": 47,
   "metadata": {},
   "outputs": [
    {
     "data": {
      "text/plain": [
       "10.039931297302246"
      ]
     },
     "execution_count": 47,
     "metadata": {},
     "output_type": "execute_result"
    }
   ],
   "source": [
    "pyro.param(\"beta1_scale\").item()"
   ]
  },
  {
   "cell_type": "code",
   "execution_count": null,
   "metadata": {},
   "outputs": [],
   "source": []
  }
 ],
 "metadata": {
  "kernelspec": {
   "display_name": "stat",
   "language": "python",
   "name": "stat"
  },
  "language_info": {
   "codemirror_mode": {
    "name": "ipython",
    "version": 3
   },
   "file_extension": ".py",
   "mimetype": "text/x-python",
   "name": "python",
   "nbconvert_exporter": "python",
   "pygments_lexer": "ipython3",
   "version": "3.8.3"
  }
 },
 "nbformat": 4,
 "nbformat_minor": 4
}
