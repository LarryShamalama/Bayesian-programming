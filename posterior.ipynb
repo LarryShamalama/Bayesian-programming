{
 "cells": [
  {
   "cell_type": "code",
   "execution_count": 1,
   "metadata": {},
   "outputs": [],
   "source": [
    "import matplotlib.pyplot as plt\n",
    "import numpy as np\n",
    "import torch\n",
    "\n",
    "import pyro\n",
    "import pyro.infer\n",
    "import pyro.optim\n",
    "import pyro.distributions as dist\n",
    "\n",
    "from pyro.nn import PyroSample\n",
    "from pyro.infer import MCMC, NUTS\n",
    "\n",
    "pyro.set_rng_seed(101)\n",
    "\n",
    "%matplotlib inline\n",
    "%config InlineBackend.figure_format = \"retina\""
   ]
  },
  {
   "cell_type": "code",
   "execution_count": 2,
   "metadata": {},
   "outputs": [],
   "source": [
    "mu_0 = 5\n",
    "sigma_0 = 1.5\n",
    "n = 15"
   ]
  },
  {
   "cell_type": "code",
   "execution_count": 4,
   "metadata": {},
   "outputs": [
    {
     "name": "stderr",
     "output_type": "stream",
     "text": [
      "Exception in thread Thread-6:\n",
      "Traceback (most recent call last):\n",
      "  File \"/home/larry/anaconda3/envs/stat/lib/python3.8/threading.py\", line 932, in _bootstrap_inner\n",
      "    self.run()\n",
      "  File \"/home/larry/anaconda3/envs/stat/lib/python3.8/threading.py\", line 870, in run\n",
      "    self._target(*self._args, **self._kwargs)\n",
      "  File \"/home/larry/anaconda3/envs/stat/lib/python3.8/site-packages/pyro/infer/mcmc/api.py\", line 39, in logger_thread\n",
      "    progress_bars = ProgressBar(warmup_steps, num_samples, disable=disable_progbar, num_bars=num_chains)\n",
      "  File \"/home/larry/anaconda3/envs/stat/lib/python3.8/site-packages/pyro/infer/mcmc/logger.py\", line 69, in __init__\n",
      "    pbar = pbar_cls(total=total_steps, desc=description, bar_format=bar_format,\n",
      "  File \"/home/larry/anaconda3/envs/stat/lib/python3.8/site-packages/tqdm/notebook.py\", line 207, in __init__\n",
      "    self.container = self.status_printer(\n",
      "  File \"/home/larry/anaconda3/envs/stat/lib/python3.8/site-packages/tqdm/notebook.py\", line 96, in status_printer\n",
      "    raise ImportError(\n",
      "ImportError: IProgress not found. Please update jupyter and ipywidgets. See https://ipywidgets.readthedocs.io/en/stable/user_install.html\n",
      "Exception ignored in: <function tqdm.__del__ at 0x7fac557498b0>\n",
      "Traceback (most recent call last):\n",
      "  File \"/home/larry/anaconda3/envs/stat/lib/python3.8/site-packages/tqdm/std.py\", line 1086, in __del__\n",
      "    self.close()\n",
      "  File \"/home/larry/anaconda3/envs/stat/lib/python3.8/site-packages/tqdm/notebook.py\", line 244, in close\n",
      "    self.sp(bar_style='danger')\n",
      "AttributeError: 'tqdm_notebook' object has no attribute 'sp'\n"
     ]
    }
   ],
   "source": [
    "y = np.random.normal(loc=mu_0, scale=sigma_0, size=[n,])\n",
    "\n",
    "mu = pyro.sample(\"mu\", dist.Normal(loc=1, scale=2))\n",
    "scale = pyro.sample(\"scale\", dist.InverseGamma(concentration=4, rate=2))\n",
    "\n",
    "def model(mu, scale):\n",
    "    return pyro.sample(\"model\", dist.Normal(loc=mu, scale=scale))\n",
    "\n",
    "def conditioned_model(model, mu, sigma, y):\n",
    "    return poutine.condition(model, data={\"obs\": y})(mu, sigma)\n",
    "\n",
    "nuts_kernel = NUTS(model=conditioned_model)\n",
    "mcmc = MCMC(kernel=nuts_kernel,\n",
    "            num_samples=100,\n",
    "            num_chains=2)"
   ]
  },
  {
   "cell_type": "code",
   "execution_count": 5,
   "metadata": {},
   "outputs": [],
   "source": [
    "mcmc._samples"
   ]
  },
  {
   "cell_type": "code",
   "execution_count": 61,
   "metadata": {},
   "outputs": [],
   "source": [
    "def scale(guess):\n",
    "    weight = pyro.sample(\"weight\", dist.Normal(guess, 1.0))\n",
    "    return pyro.sample(\"measurement\", dist.Normal(weight, 0.75))\n",
    "\n",
    "def deferred_conditioned_scale(measurement, guess):\n",
    "    return pyro.condition(scale, data={\"measurement\": measurement})(guess)\n",
    "\n",
    "def scale_obs(guess):  # equivalent to conditioned_scale above\n",
    "    weight = pyro.sample(\"weight\", dist.Normal(guess, 1.))\n",
    "     # here we condition on measurement == 9.5\n",
    "    return pyro.sample(\"measurement\", dist.Normal(weight, 0.75), obs=9.5)"
   ]
  },
  {
   "cell_type": "code",
   "execution_count": null,
   "metadata": {},
   "outputs": [],
   "source": []
  }
 ],
 "metadata": {
  "kernelspec": {
   "display_name": "stat",
   "language": "python",
   "name": "stat"
  },
  "language_info": {
   "codemirror_mode": {
    "name": "ipython",
    "version": 3
   },
   "file_extension": ".py",
   "mimetype": "text/x-python",
   "name": "python",
   "nbconvert_exporter": "python",
   "pygments_lexer": "ipython3",
   "version": "3.8.3"
  }
 },
 "nbformat": 4,
 "nbformat_minor": 4
}
